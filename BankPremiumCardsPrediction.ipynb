{
 "cells": [
  {
   "cell_type": "code",
   "execution_count": null,
   "metadata": {},
   "outputs": [],
   "source": [
    "import pandas as pd\n",
    "import numpy as np\n",
    "import sklearn\n",
    "import matplotlib.pyplot as plt\n",
    "import seaborn as sns\n",
    "import plotly.offline as py\n",
    "py.init_notebook_mode(connected=True)\n",
    "import plotly.graph_objs as go\n",
    "import plotly.tools as tls\n",
    "from sklearn.preprocessing import StandardScaler,MinMaxScaler,OrdinalEncoder,QuantileTransformer\n",
    "import warnings\n",
    "pd.options.display.max_rows = 999\n",
    "pd.options.display.max_columns = 999\n",
    "import scipy\n",
    "from sklearn import preprocessing\n",
    "from sklearn.impute import KNNImputer"
   ]
  },
  {
   "cell_type": "code",
   "execution_count": null,
   "metadata": {},
   "outputs": [],
   "source": [
    "tr_df=pd.read_csv('transactions.csv')\n",
    "ss=pd.read_csv('sample_submit.csv')\n",
    "crm_goose=pd.read_csv('crm_goose.csv')\n",
    "crm_data=pd.read_csv('crm_data.csv')"
   ]
  },
  {
   "cell_type": "code",
   "execution_count": null,
   "metadata": {},
   "outputs": [],
   "source": [
    "crm_data=crm_data.merge(crm_goose, left_on='clnt_id', right_on='clnt_id')"
   ]
  },
  {
   "cell_type": "code",
   "execution_count": null,
   "metadata": {},
   "outputs": [],
   "source": [
    "crm_data"
   ]
  },
  {
   "cell_type": "code",
   "execution_count": null,
   "metadata": {},
   "outputs": [],
   "source": [
    "crm_data=crm_data.sort_values(by=['clnt_id'])\n",
    "is_premium=crm_data['is_premium']"
   ]
  },
  {
   "cell_type": "code",
   "execution_count": null,
   "metadata": {},
   "outputs": [],
   "source": [
    "col=crm_data.iloc[:,1:].columns\n",
    "high_nans_list=[]\n",
    "noncat_list=[]\n",
    "for c in col:\n",
    "    if crm_data[c].isna().sum()/ crm_data[c].shape>=0.2:\n",
    "        high_nans_list.append(c)\n",
    "    if len(crm_data[c].unique())>300:\n",
    "        noncat_list.append(c)\n",
    "noncat_list=list(set(noncat_list)-set(high_nans_list))        \n",
    "crm_data.drop(high_nans_list,axis=1,inplace=True)\n",
    "col=crm_data.iloc[:,1:].columns\n",
    "nans_list=[]\n",
    "for c in col:\n",
    "    if crm_data[c].isna().sum()>0:\n",
    "        print(c,crm_data[c].isna().sum(),'!!!!!!!!',len(crm_data[c].unique()))\n",
    "        nans_list.append(c)\n",
    "\n",
    "def condition(value):\n",
    "    if 1000 <= value:\n",
    "        return 2020-value\n",
    "    else:\n",
    "        return value\n",
    "    \n",
    "crm_data['clnt_age'] = crm_data['clnt_age'].apply(condition)"
   ]
  },
  {
   "cell_type": "code",
   "execution_count": null,
   "metadata": {},
   "outputs": [],
   "source": [
    "trace1 = go.Bar(\n",
    "    y=[len(crm_data[c].unique()) for c in crm_data.iloc[:,1:].columns],\n",
    "    x=crm_data.iloc[:,1:].columns,\n",
    "    name='Unique',\n",
    "    marker=dict(\n",
    "        color='blue'\n",
    "    )\n",
    ")\n",
    "fig = go.Figure(data=trace1)\n",
    "py.iplot(fig, filename='barchart')"
   ]
  },
  {
   "cell_type": "code",
   "execution_count": null,
   "metadata": {},
   "outputs": [],
   "source": [
    "for col_number in [385,262,168,160,149,113,106,77,61,60,47,33,32,30,26,10,5,3,2]:\n",
    "    col=crm_data.iloc[:,1:].columns\n",
    "    for column in noncat_list:\n",
    "        low_categorical_list=[]\n",
    "        for c in col:\n",
    "            if len(crm_data.iloc[:,1:][c].unique())<=col_number:\n",
    "                if not crm_data.iloc[:,1:][c].isna().sum()>0:\n",
    "                    low_categorical_list.append(c)\n",
    "        if column in low_categorical_list:\n",
    "            low_categorical_list.remove(column)\n",
    "        print('LL',len(low_categorical_list))\n",
    "        print(low_categorical_list)    \n",
    "        crm_data[column]=crm_data[column].fillna(crm_data.groupby(low_categorical_list)[column].transform('mean'))\n",
    "        print('NA',column,'***',crm_data[column].isna().sum())\n",
    "        print('\\n\\n')"
   ]
  },
  {
   "cell_type": "code",
   "execution_count": null,
   "metadata": {},
   "outputs": [],
   "source": [
    "for col_number in [385,262,168,160,149,113,106,77,61,60,47,33,32,30,26,10,5,3,2]:\n",
    "    print(\"CN\",col_number)\n",
    "    col=crm_data.iloc[:,1:].columns\n",
    "    for column in nans_list:\n",
    "        low_categorical_list=[]\n",
    "        for c in col:\n",
    "            if len(crm_data.iloc[:,1:][c].unique())<=col_number:\n",
    "                if not crm_data.iloc[:,1:][c].isna().sum()>0:\n",
    "                    low_categorical_list.append(c)\n",
    "        if column in low_categorical_list:\n",
    "            low_categorical_list.remove(column)\n",
    "            print('remove',column)\n",
    "        print('LL',len(low_categorical_list))\n",
    "        print(low_categorical_list)\n",
    "        crm_data[column]=crm_data[column].fillna(crm_data.groupby(low_categorical_list)[column].transform('first'))\n",
    "        print('NA',column,'***',crm_data[column].isna().sum())\n",
    "        print('\\n\\n')\n",
    "        "
   ]
  },
  {
   "cell_type": "code",
   "execution_count": null,
   "metadata": {},
   "outputs": [],
   "source": [
    "crm_data"
   ]
  },
  {
   "cell_type": "code",
   "execution_count": null,
   "metadata": {},
   "outputs": [],
   "source": [
    "le = preprocessing.LabelEncoder()\n",
    "crm_data['clnt_device_get'] = le.fit_transform(crm_data['clnt_device_get'])\n",
    "crm_data['clnt_device'] = le.fit_transform(crm_data['clnt_device'])\n",
    "crm_data['is_premium'] = is_premium"
   ]
  },
  {
   "cell_type": "code",
   "execution_count": null,
   "metadata": {},
   "outputs": [],
   "source": [
    "for i in [l for l in range(1,50)]:\n",
    "    fig, ax = plt.subplots()\n",
    "    sns.distplot(tr_df[tr_df['mcc_id']==i]['sum'],ax=ax)\n",
    "    ax.set_title(i)"
   ]
  },
  {
   "cell_type": "code",
   "execution_count": null,
   "metadata": {},
   "outputs": [],
   "source": [
    "trace1 = go.Bar(\n",
    "    y=[tr_pivot[c].value_counts(normalize=True).iloc[0] for c in tr_pivot.iloc[:,1:-1].columns],\n",
    "    x=tr_pivot.iloc[:,1:-1].columns,\n",
    "    name='Unique',\n",
    "    marker=dict(\n",
    "        color='blue'\n",
    "    )\n",
    ")\n",
    "fig = go.Figure(data=trace1)\n",
    "py.iplot(fig, filename='barchart')"
   ]
  },
  {
   "cell_type": "code",
   "execution_count": null,
   "metadata": {},
   "outputs": [],
   "source": [
    "crm_data"
   ]
  },
  {
   "cell_type": "code",
   "execution_count": null,
   "metadata": {},
   "outputs": [],
   "source": [
    "stscaler = StandardScaler()\n",
    "tr_mccid=tr_df.groupby(['clnt_id','mcc_id'])['sum'].agg([('negative' , lambda x : x[x < 0].sum()) , ('positive' , lambda x : x[x > 0].sum())]).reset_index()"
   ]
  },
  {
   "cell_type": "code",
   "execution_count": null,
   "metadata": {},
   "outputs": [],
   "source": [
    "tr_mccid"
   ]
  },
  {
   "cell_type": "code",
   "execution_count": null,
   "metadata": {},
   "outputs": [],
   "source": [
    "tr_mccid1=tr_mccid.groupby(['clnt_id'])['negative','positive'].sum().reset_index()\n",
    "print(tr_mccid1)"
   ]
  },
  {
   "cell_type": "code",
   "execution_count": null,
   "metadata": {},
   "outputs": [],
   "source": [
    "tr_pivot=tr_mccid.pivot(index=tr_mccid.index, columns='mcc_id')[['negative','positive']].reset_index()\n",
    "tr_pivot.columns = ['_'.join(str(s).strip() for s in col if s) for col in tr_pivot.columns]\n",
    "tr_pivot.reset_index()\n",
    "tr_pivot=tr_pivot.fillna(0)\n",
    "tr_pivot=tr_pivot.rename(columns={\"index\": \"clnt_id\"})\n",
    "tr_mccid1=tr_mccid.groupby(['clnt_id'])['negative','positive'].sum().reset_index()\n",
    "tr_pivot=tr_pivot.merge(tr_mccid1, left_on='clnt_id', right_on='clnt_id')\n",
    "tr_pivot=tr_pivot.merge(crm_data, left_on='clnt_id', right_on='clnt_id')\n",
    "bad_columns=[]\n",
    "neg_columns=[f'negative_{i}' for i in range(1,51)]\n",
    "pos_columns=[f'positive_{i}' for i in range(1,51)]\n",
    "\n",
    "\n",
    "from sklearn.preprocessing import QuantileTransformer\n",
    "scaler = QuantileTransformer()\n",
    "tr_pivot[neg_columns]=scaler.fit_transform(tr_pivot[neg_columns])\n",
    "tr_pivot[pos_columns]=scaler.fit_transform(tr_pivot[pos_columns])\n",
    "tr_pivot.drop(['negative_31','negative_45','positive_2','positive_7','positive_10','positive_15','positive_18','positive_19','positive_23','positive_25',\\\n",
    "               'positive_28','positive_30','positive_31','positive_32','positive_34','positive_39','positive_45','positive_48','spend_points'],axis=1,inplace=True)  \n",
    "stscaler = StandardScaler()\n",
    "tr_pivot[['clnt_age','clnt_device','clnt_device_get','clnt_fortune','clnt_status','spend_level']] \\\n",
    "= scaler.fit_transform(tr_pivot[['clnt_age','clnt_device','clnt_device_get','clnt_fortune','clnt_status','spend_level']])\n",
    "tr_pivot[['negative','positive','goose_agg_0',\n",
    "       'goose_agg_1', 'goose_agg_2', 'goose_agg_3', 'goose_agg_4',\n",
    "       'goose_agg_5', 'goose_agg_6', 'goose_agg_7', 'goose_agg_8',\n",
    "       'goose_agg_10', 'goose_agg_11', 'goose_agg_12', 'goose_agg_13',\n",
    "       'goose_agg_14', 'goose_agg_15', 'goose_agg_16', 'goose_agg_17',\n",
    "       'goose_agg_18', 'goose_agg_19', 'goose_agg_20', 'goose_agg_21',\n",
    "       'goose_agg_22', 'goose_agg_23', 'goose_agg_24', 'goose_agg_25',\n",
    "       'goose_agg_26', 'goose_agg_27', 'goose_agg_28', 'goose_agg_29',\n",
    "       'wild_goose_A_1', 'wild_goose_A_2', 'wild_goose_A_9','spend_last','clnt_income']]=scaler.fit_transform(tr_pivot[['negative','positive','goose_agg_0',\n",
    "       'goose_agg_1', 'goose_agg_2', 'goose_agg_3', 'goose_agg_4',\n",
    "       'goose_agg_5', 'goose_agg_6', 'goose_agg_7', 'goose_agg_8',\n",
    "       'goose_agg_10', 'goose_agg_11', 'goose_agg_12', 'goose_agg_13',\n",
    "       'goose_agg_14', 'goose_agg_15', 'goose_agg_16', 'goose_agg_17',\n",
    "       'goose_agg_18', 'goose_agg_19', 'goose_agg_20', 'goose_agg_21',\n",
    "       'goose_agg_22', 'goose_agg_23', 'goose_agg_24', 'goose_agg_25',\n",
    "       'goose_agg_26', 'goose_agg_27', 'goose_agg_28', 'goose_agg_29',\n",
    "       'wild_goose_A_1', 'wild_goose_A_2', 'wild_goose_A_9','spend_last','clnt_income']])\n",
    "\n",
    "corr_matrix = tr_pivot.corr().abs()\n",
    "upper = corr_matrix.where(np.triu(np.ones(corr_matrix.shape), k=1).astype(np.bool))\n",
    "to_drop = [column for column in upper.columns if any(upper[column] > 0.85)]\n",
    "tr_pivot.drop(to_drop,axis=1,inplace=True)\n",
    "\n",
    "\n",
    "for col in tr_pivot.iloc[:,1:-1].columns:\n",
    "    if tr_pivot[col].value_counts(normalize=True).iloc[0]>0.95:\n",
    "        bad_columns.append(col)\n",
    "        \n",
    "tr_pivot.drop(bad_columns,axis=1,inplace=True)  \n",
    "\n"
   ]
  },
  {
   "cell_type": "code",
   "execution_count": null,
   "metadata": {},
   "outputs": [],
   "source": [
    "train_df =tr_pivot[tr_pivot['is_premium'].notna()]\n",
    "test_df = tr_pivot[tr_pivot['is_premium'].isna()]"
   ]
  },
  {
   "cell_type": "code",
   "execution_count": null,
   "metadata": {},
   "outputs": [],
   "source": [
    "train_df"
   ]
  },
  {
   "cell_type": "code",
   "execution_count": null,
   "metadata": {},
   "outputs": [],
   "source": [
    "for col in train_df.columns[1:-1]:\n",
    "    fig, axs = plt.subplots(ncols=2)\n",
    "    sns.boxplot(x=train_df[col],ax=axs[0])\n",
    "    sns.boxplot(x=test_df[col],ax=axs[1])\n",
    "    axs[0].set_title(col)\n",
    "    axs[1].set_title(col)"
   ]
  },
  {
   "cell_type": "code",
   "execution_count": null,
   "metadata": {},
   "outputs": [],
   "source": [
    "import warnings\n",
    "warnings.filterwarnings(\"ignore\")\n",
    "for col in train_df.columns[1:-1]:\n",
    "    fig, axs = plt.subplots(ncols=2)\n",
    "    sns.distplot(train_df[col],ax=axs[0])\n",
    "    sns.distplot(test_df[col],ax=axs[1])\n",
    "    axs[0].set_title(col)\n",
    "    axs[1].set_title(col)"
   ]
  },
  {
   "cell_type": "code",
   "execution_count": null,
   "metadata": {},
   "outputs": [],
   "source": [
    "train_df['is_premium'].value_counts()"
   ]
  },
  {
   "cell_type": "code",
   "execution_count": null,
   "metadata": {},
   "outputs": [],
   "source": [
    "from sklearn import ensemble\n",
    "from sklearn.metrics import mean_squared_error\n",
    "import lightgbm as lgb\n",
    "from sklearn.ensemble import RandomForestRegressor\n",
    "from sklearn.model_selection import StratifiedKFold\n",
    "from sklearn.model_selection import cross_val_score\n",
    "from sklearn.model_selection import train_test_split\n",
    "from lightgbm import LGBMRegressor\n"
   ]
  },
  {
   "cell_type": "code",
   "execution_count": null,
   "metadata": {},
   "outputs": [],
   "source": [
    "Y_train=train_df['is_premium']\n",
    "X_train=train_df[las_columns]\n",
    "X_test=test_df[las_columns]\n",
    "Y_test=test_df['is_premium']\n",
    "x_train, x_valid, y_train, y_valid = train_test_split(X_train, Y_train, test_size=0.00001, random_state=0)\n",
    "print(x_train.shape,x_valid.shape)"
   ]
  },
  {
   "cell_type": "code",
   "execution_count": null,
   "metadata": {},
   "outputs": [],
   "source": [
    "x_train"
   ]
  },
  {
   "cell_type": "code",
   "execution_count": null,
   "metadata": {},
   "outputs": [],
   "source": [
    "# Some useful parameters which will come in handy later on\n",
    "ntrain = x_train.shape[0]\n",
    "ntest = X_test.shape[0]\n",
    "SEED = 0 # for reproducibility\n",
    "NFOLDS = 10 # set folds for out-of-fold prediction\n",
    "kfold = StratifiedKFold(n_splits=5)\n",
    "\n",
    "# Class to extend the Sklearn classifier\n",
    "class SklearnHelper(object):\n",
    "    def __init__(self, clf, seed=0, params=None):\n",
    "        params['random_state'] = seed\n",
    "        self.clf = clf(**params)\n",
    "\n",
    "    def train(self, x_train, y_train):\n",
    "        self.clf.fit(x_train, y_train)\n",
    "\n",
    "    def predict(self, x):\n",
    "        return self.clf.predict(x)\n",
    "    \n",
    "    def predict_proba(self, x):\n",
    "        return self.clf.predict_proba(x)[:,1] \n",
    "    \n",
    "    def fit(self,x,y):\n",
    "        return self.clf.fit(x,y)\n",
    "    \n",
    "    def feature_importances(self,x,y):\n",
    "        print(self.clf.fit(x,y).feature_importances_)\n",
    "    \n",
    "# Class to extend XGboost classifer"
   ]
  },
  {
   "cell_type": "code",
   "execution_count": null,
   "metadata": {},
   "outputs": [],
   "source": [
    "def get_oof(clf, x_train, y_train, x_test):\n",
    "    oof_train = np.zeros((ntrain,))\n",
    "    oof_test = np.zeros((ntest,))\n",
    "    oof_test_skf = np.empty((NFOLDS, ntest))\n",
    "\n",
    "    for i, (train_index, test_index) in enumerate(list(kfold.split(x_train,y_train))):\n",
    "        x_tr = x_train[train_index]\n",
    "        y_tr = y_train[train_index]\n",
    "        x_te = x_train[test_index]\n",
    "\n",
    "        clf.train(x_tr, y_tr)\n",
    "\n",
    "        oof_train[test_index] = clf.predict(x_te)\n",
    "        oof_test_skf[i, :] = (clf.predict_proba(x_test)>= 0.35).astype(bool)\n",
    "\n",
    "    oof_test[:] = oof_test_skf.mean(axis=0)\n",
    "    return oof_train.reshape(-1, 1), oof_test.reshape(-1, 1)"
   ]
  },
  {
   "cell_type": "code",
   "execution_count": null,
   "metadata": {},
   "outputs": [],
   "source": [
    "print(best_params_rf)\n",
    "print(best_params_cb)\n",
    "print(best_params_lgbm)\n",
    "print(best_params_xgb)"
   ]
  },
  {
   "cell_type": "code",
   "execution_count": null,
   "metadata": {},
   "outputs": [],
   "source": [
    "rf = SklearnHelper(clf=RandomForestClassifier, seed=SEED, params=best_params_rf)\n",
    "catboost = SklearnHelper(clf=CatBoostClassifier, seed=SEED, params=best_params_cb)\n",
    "lgbm = SklearnHelper(clf=LGBMClassifier, seed=SEED, params=best_params_lgbm)\n",
    "xgboost= SklearnHelper(clf=xgb.XGBClassifier, seed=SEED, params=best_params_xgb)"
   ]
  },
  {
   "cell_type": "code",
   "execution_count": null,
   "metadata": {},
   "outputs": [],
   "source": [
    "rf_oof_train, rf_oof_test = get_oof(rf, x_train, y_train, X_test) # \n",
    "cb_oof_train, cb_oof_test = get_oof(catboost,x_train, y_train, X_test) # \n",
    "lgbm_oof_train, lgbm_oof_test = get_oof(lgbm, x_train, y_train, X_test) # \n",
    "xgb_oof_train, xgb_oof_test = get_oof(xgboost, x_train, y_train, X_test)"
   ]
  },
  {
   "cell_type": "code",
   "execution_count": null,
   "metadata": {},
   "outputs": [],
   "source": [
    "base_predictions_train = pd.DataFrame( {'RandomForest': rf_oof_train.ravel(),\n",
    "     'CB': cb_oof_train.ravel(),\n",
    "     'LGBM': lgbm_oof_train.ravel(),\n",
    "     \"XGB\": xgb_oof_train.ravel()                          \n",
    "    })\n",
    "x_train = np.concatenate(( rf_oof_train, cb_oof_train, lgbm_oof_train,xgb_oof_train), axis=1)\n",
    "x_test = np.concatenate(( rf_oof_test, cb_oof_test, lgbm_oof_test,xgb_oof_test), axis=1)"
   ]
  },
  {
   "cell_type": "code",
   "execution_count": null,
   "metadata": {},
   "outputs": [],
   "source": [
    "NFOLDS = 5\n",
    "rs=42\n",
    "kf = StratifiedKFold(n_splits= NFOLDS)\n",
    "params = {\n",
    "        'max_depth': [4],\n",
    "        'n_estimators': [1000],\n",
    "        'min_child_weight': [1,2],\n",
    "        'gamma': [2,5,10],\n",
    "        'subsample': [0.8],\n",
    "        'colsample_bytree': [1.0],\n",
    "        'learning_rate': [0.01],\n",
    "        'random_state':[rs],\n",
    "        'objective': ['binary:logistic'],\n",
    "        'nthread' : [-1],\n",
    "        'scale_pos_weight': [1]\n",
    "        }\n",
    "xgboost = xgb.XGBClassifier()\n",
    "gsXGB = GridSearchCV(xgboost, params, verbose=1, cv=kf.split(x_train,y_train), n_jobs=-1,scoring=\"f1_macro\")\n",
    "# Run the grid\n",
    "gsXGB.fit(x_train,y_train)\n",
    "XGB_best = gsXGB.best_estimator_\n",
    "print('XGB',gsXGB.best_score_)\n",
    "predictions = XGB_best.predict(x_test)"
   ]
  },
  {
   "cell_type": "code",
   "execution_count": null,
   "metadata": {},
   "outputs": [],
   "source": [
    "ss=ss.sort_values(by=['clnt_id'])\n",
    "subm=pd.DataFrame({'clnt_id':ss['clnt_id'],'is_premium':(XGB_best.predict_proba(x_test)[:,1] >= 0.35).astype(bool)})\n",
    "subm=subm.astype({'is_premium': 'int64'})"
   ]
  },
  {
   "cell_type": "code",
   "execution_count": null,
   "metadata": {},
   "outputs": [],
   "source": [
    "best['is_premium'].value_counts()"
   ]
  },
  {
   "cell_type": "code",
   "execution_count": null,
   "metadata": {},
   "outputs": [],
   "source": [
    "print(accuracy_score(y_valid,predictions))"
   ]
  },
  {
   "cell_type": "code",
   "execution_count": null,
   "metadata": {},
   "outputs": [],
   "source": [
    "random_state = 42\n",
    "kfold = StratifiedKFold(n_splits=5)\n",
    "classifiers = []\n",
    "classifiers.append(LGBMClassifier(random_state=random_state))\n",
    "classifiers.append(RandomForestClassifier(max_features=3,random_state=random_state))\n",
    "classifiers.append(CatBoostClassifier(random_state = random_state))\n",
    "classifiers.append(LogisticRegression(random_state = random_state))\n",
    "classifiers.append(SVC(random_state = random_state))\n",
    "classifiers.append(xgb.XGBClassifier(random_state = random_state))\n",
    "cv_results = []\n",
    "for classifier in classifiers :\n",
    "    print(classifier)\n",
    "    cv_results.append(cross_val_score(classifier, x_train, y = y_train, scoring = \"accuracy\", cv = kfold, n_jobs=4))\n",
    "\n",
    "cv_means = []\n",
    "cv_std = []\n",
    "for cv_result in cv_results:\n",
    "    cv_means.append(cv_result.mean())\n",
    "    cv_std.append(cv_result.std())\n",
    "\n",
    "    \n",
    "cv_res = pd.DataFrame({\"CrossValMeans\":cv_means,\"CrossValerrors\": cv_std,\"Algorithm\":[\"LGBM\",\"RandomForestClassifier\",\"Catboost\",\"Logreg\",\"SVC\",\"XGB\"]})\n",
    "\n",
    "g = sns.barplot(\"CrossValMeans\",\"Algorithm\",data = cv_res, palette=\"Set3\",orient = \"h\",**{'xerr':cv_std})\n",
    "g.set_xlabel(\"Mean Accuracy\")\n",
    "g = g.set_title(\"Cross validation scores\")"
   ]
  },
  {
   "cell_type": "code",
   "execution_count": null,
   "metadata": {},
   "outputs": [],
   "source": [
    "best_params_rf=gsRFC.best_params_\n",
    "best_params_cb=gsCB.best_params_\n",
    "best_params_lgbm=gsLGBM.best_params_\n",
    "best_params_xgb=gsXGB.best_params_\n",
    "print(best_params_rf)\n",
    "print(best_params_cb)\n",
    "print(best_params_lgbm)\n",
    "print(best_params_xgb)"
   ]
  },
  {
   "cell_type": "code",
   "execution_count": null,
   "metadata": {},
   "outputs": [],
   "source": [
    "NFOLDS = 10\n",
    "rs=42\n",
    "kf = StratifiedKFold(n_splits= NFOLDS)\n",
    "RFC = RandomForestClassifier()\n",
    "rf_param_grid = {\"max_depth\": [None],\"max_features\": [3], \"min_samples_split\": [10], \"min_samples_leaf\": [ 3],\n",
    "                \"bootstrap\": [False],\n",
    "                \"n_estimators\" :[500],\n",
    "                \"criterion\": [\"gini\"],\n",
    "                'random_state':[rs]}\n",
    "gsRFC = GridSearchCV(RFC,param_grid = rf_param_grid, cv=kf.split(x_train,y_train), scoring=\"accuracy\", n_jobs= 4, verbose = 1)\n",
    "gsRFC.fit(x_train,y_train)\n",
    "RFC_best = gsRFC.best_estimator_\n",
    "print(\"RF\",gsRFC.best_score_)\n",
    "\n",
    "clf = CatBoostClassifier()\n",
    "params = {'iterations': [1000],\n",
    "            'loss_function': ['CrossEntropy'],\n",
    "         'random_state':[rs]}\n",
    "gsCB = GridSearchCV(estimator=clf, param_grid=params, scoring=\"accuracy\", cv=kf.split(x_train,y_train))\n",
    "gsCB.fit(x_train,y_train)\n",
    "CB_best = gsCB.best_estimator_\n",
    "print('CB',gsCB.best_score_)\n",
    "\n",
    "lgbm=LGBMClassifier()\n",
    "gridParams = {\n",
    "    'learning_rate': [0.01],\n",
    "    'n_estimators': [500],\n",
    "    'num_leaves': [12], # large num_leaves helps improve accuracy but might lead to over-fitting\n",
    "    'boosting_type' : ['gbdt'], # for better accuracy -> try dart\n",
    "    'objective' : ['binary'],\n",
    "    'max_bin':[255], # large max_bin helps improve accuracy but might slow down training progress\n",
    "    'colsample_bytree' : [0.64],\n",
    "    'subsample' : [0.7],\n",
    "    'reg_alpha' : [1.2],\n",
    "    'reg_lambda' : [1.5],\n",
    "    'random_state':[rs]\n",
    "    }\n",
    "\n",
    "gsLGBM = GridSearchCV(lgbm, gridParams, verbose=1, cv=kf.split(x_train,y_train), n_jobs=-1,scoring=\"accuracy\")\n",
    "# Run the grid\n",
    "gsLGBM.fit(x_train,y_train)\n",
    "LGBM_best = gsLGBM.best_estimator_\n",
    "print('LGBM',gsLGBM.best_score_)\n",
    "params = {\n",
    "        'max_depth': [8,12],\n",
    "        'n_estimators': [500,1000],\n",
    "        'min_child_weight': [1],\n",
    "        'gamma': [5],\n",
    "        'subsample': [1.0],\n",
    "        'colsample_bytree': [1.0],\n",
    "        'learning_rate': [0.01],\n",
    "        'random_state':[rs]\n",
    "        }\n",
    "xgboost = xgb.XGBClassifier()\n",
    "gsXGB = GridSearchCV(xgboost, params, verbose=1, cv=kf.split(x_train,y_train), n_jobs=-1,scoring=\"accuracy\")\n",
    "# Run the grid\n",
    "gsXGB.fit(x_train,y_train)\n",
    "XGB_best = gsXGB.best_estimator_\n",
    "print('XGB',gsXGB.best_score_)\n"
   ]
  },
  {
   "cell_type": "code",
   "execution_count": null,
   "metadata": {},
   "outputs": [],
   "source": [
    "nrows = ncols = 2\n",
    "fig, axes = plt.subplots(nrows = nrows, ncols = ncols, sharex=\"all\", figsize=(15,15))\n",
    "\n",
    "names_classifiers = [(\"RFC_best\", RFC_best),(\"CB_best\",CB_best),(\"LGBM_best\",LGBM_best),(\"XGB_best\",XGB_best)]\n",
    "\n",
    "nclassifier = 0\n",
    "for row in range(nrows):\n",
    "    for col in range(ncols):\n",
    "        name = names_classifiers[nclassifier][0]\n",
    "        classifier = names_classifiers[nclassifier][1]\n",
    "        indices = np.argsort(classifier.feature_importances_)[::-1][:40]\n",
    "        g = sns.barplot(y=X_train.columns[indices][:40],x = classifier.feature_importances_[indices][:40] , orient='h',ax=axes[row][col])\n",
    "        g.set_xlabel(\"Relative importance\",fontsize=12)\n",
    "        g.set_ylabel(\"Features\",fontsize=12)\n",
    "        g.tick_params(labelsize=9)\n",
    "        g.set_title(name + \" feature importance\")\n",
    "        nclassifier += 1"
   ]
  },
  {
   "cell_type": "code",
   "execution_count": null,
   "metadata": {},
   "outputs": [],
   "source": [
    "indices = np.argsort(LGBM_best.feature_importances_)[::-1][:29]\n",
    "las_columns=X_train.columns[indices][:29]"
   ]
  },
  {
   "cell_type": "code",
   "execution_count": null,
   "metadata": {},
   "outputs": [],
   "source": [
    "las_columns"
   ]
  },
  {
   "cell_type": "code",
   "execution_count": null,
   "metadata": {},
   "outputs": [],
   "source": [
    "final_columns=[spend_points,]"
   ]
  },
  {
   "cell_type": "code",
   "execution_count": null,
   "metadata": {},
   "outputs": [],
   "source": [
    "votingC = VotingClassifier(estimators=[('rfc', RFC_best),('lgbm',LGBM_best),('cb',CB_best),(\"xgb\",XGB_best)],\n",
    "                           voting='soft', n_jobs=4)\n",
    "votingC = votingC.fit(x_train, y_train)\n",
    "predict=votingC.predict(x_valid)\n",
    "print(accuracy_score(y_valid,predict))"
   ]
  },
  {
   "cell_type": "code",
   "execution_count": null,
   "metadata": {},
   "outputs": [],
   "source": [
    "subm_rf['is_premium'].value_counts()"
   ]
  },
  {
   "cell_type": "code",
   "execution_count": null,
   "metadata": {},
   "outputs": [],
   "source": [
    "subm_lgbm['is_premium'].value_counts()"
   ]
  },
  {
   "cell_type": "code",
   "execution_count": null,
   "metadata": {},
   "outputs": [],
   "source": [
    "votingC = VotingClassifier(estimators=[('rfc', RFC_best),('cb',CB_best),('lgbm',LGBM_best),('xgb', XGB_best)],\n",
    "                           voting='soft', n_jobs=4)\n",
    "votingC = votingC.fit(x_train, y_train)\n",
    "\n",
    "ss=ss.sort_values(by=['clnt_id'])\n",
    "subm=pd.DataFrame({'clnt_id':ss['clnt_id'],'is_premium':(votingC.predict_proba(X_test)[:,1] >= 0.4).astype(bool)})\n",
    "subm=subm.astype({'is_premium': 'int64'})"
   ]
  },
  {
   "cell_type": "code",
   "execution_count": null,
   "metadata": {},
   "outputs": [],
   "source": [
    "subm.is_premium.value_counts()"
   ]
  },
  {
   "cell_type": "code",
   "execution_count": null,
   "metadata": {},
   "outputs": [],
   "source": [
    "import gc"
   ]
  },
  {
   "cell_type": "code",
   "execution_count": null,
   "metadata": {},
   "outputs": [],
   "source": [
    "gc.collect()"
   ]
  },
  {
   "cell_type": "code",
   "execution_count": null,
   "metadata": {},
   "outputs": [],
   "source": []
  }
 ],
 "metadata": {
  "kernelspec": {
   "display_name": "Python 3",
   "language": "python",
   "name": "python3"
  },
  "language_info": {
   "codemirror_mode": {
    "name": "ipython",
    "version": 3
   },
   "file_extension": ".py",
   "mimetype": "text/x-python",
   "name": "python",
   "nbconvert_exporter": "python",
   "pygments_lexer": "ipython3",
   "version": "3.8.5"
  }
 },
 "nbformat": 4,
 "nbformat_minor": 4
}